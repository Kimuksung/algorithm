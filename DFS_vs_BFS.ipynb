{
  "nbformat": 4,
  "nbformat_minor": 0,
  "metadata": {
    "colab": {
      "name": "DFS vs BFS.ipynb",
      "provenance": [],
      "collapsed_sections": [],
      "authorship_tag": "ABX9TyNtBUEMcf09nPqOetT5H3q/",
      "include_colab_link": true
    },
    "kernelspec": {
      "name": "python3",
      "display_name": "Python 3"
    }
  },
  "cells": [
    {
      "cell_type": "markdown",
      "metadata": {
        "id": "view-in-github",
        "colab_type": "text"
      },
      "source": [
        "<a href=\"https://colab.research.google.com/github/Kimuksung/algorithm/blob/master/DFS_vs_BFS.ipynb\" target=\"_parent\"><img src=\"https://colab.research.google.com/assets/colab-badge.svg\" alt=\"Open In Colab\"/></a>"
      ]
    },
    {
      "cell_type": "code",
      "metadata": {
        "id": "tPZmFc-RFCJg",
        "colab_type": "code",
        "colab": {}
      },
      "source": [
        "#BFS 백준 2178\n",
        "from sys import stdin\n",
        "n , m = map(int , input().split())\n",
        "arr= [[1,0,1,1,1,1] ,[1,0,1,0,1,0] , [1,0,1,0,1,1], [1,1,1,0,1,1]]\n",
        "\n",
        "# 방문경로 배열\n",
        "visited = [[0]*m for _ in range(n)]\n",
        "\n",
        "dx, dy = [-1, 1, 0, 0], [0, 0, -1, 1]\n",
        "\n",
        "queue = [(0,0)]\n",
        "visited[0][0]\n",
        "\n",
        "while queue:\n",
        "    x,y = queue.pop(0)\n",
        "    \n",
        "    if x == n -1 and y==m-1: #도착한 경우\n",
        "        print(visited[x][y])\n",
        "        break\n",
        "    for i in range(4):\n",
        "        nx = x + dx[i]\n",
        "        ny = y + dy[i]\n",
        "        if 0 <= nx < n and 0 <= ny < m:\n",
        "            if visited[nx][ny] == 0 and arr[nx][ny] == 1:\n",
        "                visited[nx][ny] = visited[x][y] + 1\n",
        "                queue.append((nx,ny))    \n",
        "\n"
      ],
      "execution_count": null,
      "outputs": []
    },
    {
      "cell_type": "code",
      "metadata": {
        "id": "rUkwu0IFGJDV",
        "colab_type": "code",
        "colab": {}
      },
      "source": [
        "# DFS 백준 1012\n",
        "import sys\n",
        "sys.setrecursionlimit(50000)\n",
        "t = int(input())\n",
        "\n",
        "def DFS( x ,  y ):\n",
        "    all_map[y][x] = 0\n",
        "    visited[y][x] = 1\n",
        "    for i in range(4):\n",
        "        nx = x+dx[i]\n",
        "        ny = y+dy[i]\n",
        "        if 0<= nx <n and 0<= ny < m:\n",
        "            if visited[ny][nx] !=1 and all_map[ny][nx] ==1:\n",
        "                DFS(nx,ny)\n",
        "    visited[y][x] = 0\n",
        "    \n",
        "for i in range(t):\n",
        "    n , m , k = map( int , input().split())\n",
        "    \n",
        "    all_map = [[0 for i in range(n)] for _ in range(m)]\n",
        "    #initialize\n",
        "    for i in range(k):\n",
        "        x,y = map(int ,input().split())\n",
        "        all_map[y][x] =1\n",
        "    \n",
        "    visited = [[0 for i in range(n)] for _ in range(m)]\n",
        "        \n",
        "    dx , dy = [1,-1,0,0] , [0,0,-1,1]\n",
        "    \n",
        "    count = 0\n",
        "    for i in range(n):\n",
        "        for j in range(m):\n",
        "            if all_map[j][i] == 1:\n",
        "                DFS(i,j)\n",
        "                count+=1\n",
        "    \n",
        "    print(count)\n"
      ],
      "execution_count": null,
      "outputs": []
    },
    {
      "cell_type": "code",
      "metadata": {
        "id": "_OWLordiGZn4",
        "colab_type": "code",
        "colab": {}
      },
      "source": [
        "# DFS 기본적인 탐색\n",
        "import sys\n",
        "sys.setrecursionlimit(50000)\n",
        "\n",
        "n,m = 3,3\n",
        "arr = [ [0 for i in range(n)] for _ in range(m)]\n",
        "\n",
        "dx , dy = [ 1,-1,0 , 0 ] , [0,0,-1,1]\n",
        "\n",
        "all_map = [[0 for i in range(n)] for _ in range(m)]\n",
        "\n",
        "def DFS( x ,  y ,  l):\n",
        "    global answer\n",
        "    if x == n-1 and y== m-1:\n",
        "        if answer> l:\n",
        "            answer = l\n",
        "    \n",
        "    all_map[x][y] = 1\n",
        "    \n",
        "    for i in range(4):\n",
        "        nx = x+dx[i]\n",
        "        ny = y+dy[i]\n",
        "        \n",
        "        if 0<=nx < n and 0<= ny < m:\n",
        "            if all_map[nx][ny] != 1:\n",
        "                DFS(nx,ny,l+1)\n",
        "    \n",
        "    all_map[x][y] = 0\n",
        "\n",
        "       \n",
        "DFS(0,0,1)\n",
        "answer \n"
      ],
      "execution_count": null,
      "outputs": []
    },
    {
      "cell_type": "markdown",
      "metadata": {
        "id": "JNvFTdvKFEER",
        "colab_type": "text"
      },
      "source": [
        "# 탐색\n",
        "DFS VS BFS\n",
        "\n",
        "1) DFS\n",
        "- 재귀 / stack\n",
        "- 검색 속도가 느린 대신 모든 경우를 전부 탐색한다.\n",
        "- Graph 시 N+E\n",
        "- 행렬(좌표) N^2\n",
        "\n",
        "2) BFS\n",
        "- 넓게 탐색하여 깊이 보다 wide를 중시\n",
        "- 가까운 관계부터 탐색\n",
        "- queue를 이용하여 사용하는데 pop시에 queue는 O(N)이 들기 때문에 deque를 이용하기도 함 -> 효율성 중요시에는 deque를 사용할 것!(https://wiki.python.org/moin/TimeComplexity)\n",
        "\n",
        "\n",
        "\n",
        "\n"
      ]
    }
  ]
}